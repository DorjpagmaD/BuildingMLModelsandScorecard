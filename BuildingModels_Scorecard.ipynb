{
 "cells": [
  {
   "cell_type": "code",
   "execution_count": 4,
   "metadata": {},
   "outputs": [],
   "source": [
    "import pandas as pd\n",
    "import numpy as np\n",
    "import seaborn as sns\n",
    "import matplotlib.pyplot as plt\n",
    "\n",
    "import warnings\n",
    "warnings.filterwarnings('ignore')\n",
    "\n",
    "from numpy import loadtxt\n",
    "#from xgboost import XGBClassifier\n",
    "from sklearn.model_selection import train_test_split\n",
    "from sklearn.metrics import accuracy_score\n",
    "\n",
    "from sklearn.linear_model import LogisticRegression\n",
    "from sklearn.ensemble import RandomForestClassifier\n",
    "#from sklearn.cross_validation import cross_val_predict, KFold\n",
    "#from sklearn.cross_validation import train_test_split\n",
    "from sklearn.preprocessing import StandardScaler\n",
    "from sklearn.preprocessing import MinMaxScaler\n",
    "\n",
    "import utils_ml\n",
    "\n",
    "pd.set_option('display.max_columns', 200)\n",
    "pd.set_option('display.max_rows', 200)\n",
    "%matplotlib inline"
   ]
  },
  {
   "cell_type": "markdown",
   "metadata": {},
   "source": [
    "# Loading data"
   ]
  },
  {
   "cell_type": "code",
   "execution_count": 2,
   "metadata": {},
   "outputs": [],
   "source": [
    "#df = pd.read_csv(\"data/cleaned_new_loans_with_dummy_outlier_removed.csv\")\n",
    "#df = pd.read_csv(\"data/cleaned_new_loans_with_dummy_outlier_removed_dispurseddate_new.csv\")\n",
    "df = pd.read_csv(\"data/cleaned_newdata.csv\")\n",
    "df_bin = pd.read_csv(\"data/cleaned_newdata_binned.csv\")\n",
    "\n",
    "#df=utils_ml.create_ratio_parameters_consumer(df) #\n"
   ]
  },
  {
   "cell_type": "code",
   "execution_count": 28,
   "metadata": {},
   "outputs": [],
   "source": [
    "df=df[columns_top40]\n",
    "df_bin=df_bin[columns_top40_bin]\n",
    "\n",
    "df,df_bin=utils_ml.convert_features_to_binned(df,df_bin)"
   ]
  },
  {
   "cell_type": "code",
   "execution_count": 30,
   "metadata": {},
   "outputs": [],
   "source": [
    "df.columns=df.columns.str.replace(' ','_')\n",
    "df_bin.columns=df_bin.columns.str.replace(' ','_')\n",
    "df.columns=df.columns.str.replace('(','')\n",
    "df.columns=df.columns.str.replace(')','')\n",
    "df_bin.columns=df_bin.columns.str.replace('(','')\n",
    "df_bin.columns=df_bin.columns.str.replace(')','')"
   ]
  },
  {
   "cell_type": "code",
   "execution_count": 31,
   "metadata": {},
   "outputs": [],
   "source": [
    "df_train,df_test=utils_ml.split_samples_consumer(df, write_sample=False)\n",
    "df_train_bin,df_test_bin=utils_ml.split_samples_consumer(df_bin, write_sample=True)"
   ]
  },
  {
   "cell_type": "code",
   "execution_count": 32,
   "metadata": {},
   "outputs": [
    {
     "data": {
      "text/plain": [
       "(2341, 1052)"
      ]
     },
     "execution_count": 32,
     "metadata": {},
     "output_type": "execute_result"
    }
   ],
   "source": [
    "df_train.bad.sum(),df_test.bad.sum()"
   ]
  },
  {
   "cell_type": "code",
   "execution_count": 33,
   "metadata": {},
   "outputs": [
    {
     "data": {
      "text/plain": [
       "(2341, 1052)"
      ]
     },
     "execution_count": 33,
     "metadata": {},
     "output_type": "execute_result"
    }
   ],
   "source": [
    "df_train_bin.bad.sum(),df_test_bin.bad.sum()"
   ]
  },
  {
   "cell_type": "code",
   "execution_count": 34,
   "metadata": {},
   "outputs": [
    {
     "data": {
      "text/plain": [
       "(0.05073358906009579, 0.0531957928802589)"
      ]
     },
     "execution_count": 34,
     "metadata": {},
     "output_type": "execute_result"
    }
   ],
   "source": [
    "df_train_bin.bad.mean(),df_test_bin.bad.mean()"
   ]
  },
  {
   "cell_type": "code",
   "execution_count": 13,
   "metadata": {},
   "outputs": [],
   "source": [
    "df_columns_groups=utils_ml.groups_importance_list_consumer(importance_list)"
   ]
  },
  {
   "cell_type": "code",
   "execution_count": 21,
   "metadata": {},
   "outputs": [],
   "source": [
    "df=df[['bad']+importance_list]\n",
    "df_train=df_train[['bad']+importance_list]\n",
    "df_test=df_test[['bad']+importance_list]"
   ]
  },
  {
   "cell_type": "markdown",
   "metadata": {},
   "source": [
    "# Train-Test split"
   ]
  },
  {
   "cell_type": "code",
   "execution_count": 23,
   "metadata": {},
   "outputs": [],
   "source": [
    "sScaler = StandardScaler(copy=True, with_mean=True, with_std=True)\n",
    "mScaler = MinMaxScaler()"
   ]
  },
  {
   "cell_type": "code",
   "execution_count": 33,
   "metadata": {
    "collapsed": true
   },
   "outputs": [],
   "source": [
    "X = df.drop('bad', axis=1)\n",
    "y = df.bad\n",
    "\n",
    "X_train, X_test , y_train, y_train = train_test_split(X, y, test_size=0.7)"
   ]
  },
  {
   "cell_type": "code",
   "execution_count": null,
   "metadata": {},
   "outputs": [],
   "source": []
  },
  {
   "cell_type": "code",
   "execution_count": 34,
   "metadata": {},
   "outputs": [
    {
     "data": {
      "text/plain": [
       "StandardScaler(copy=True, with_mean=True, with_std=True)"
      ]
     },
     "execution_count": 34,
     "metadata": {},
     "output_type": "execute_result"
    }
   ],
   "source": [
    "sScaler.fit(X_train)"
   ]
  },
  {
   "cell_type": "code",
   "execution_count": 35,
   "metadata": {
    "collapsed": true
   },
   "outputs": [],
   "source": [
    "X_train = sScaler.transform(X_train)\n",
    "X_test = sScaler.transform(X_test)\n",
    "#X = sScaler.transform(X)"
   ]
  },
  {
   "cell_type": "markdown",
   "metadata": {},
   "source": [
    "# Fitting"
   ]
  },
  {
   "cell_type": "code",
   "execution_count": 36,
   "metadata": {
    "collapsed": true
   },
   "outputs": [],
   "source": [
    "def cvDictGen(functions, scr, X_train=X_train, y_train=y_train, cv=5, verbose=1):\n",
    "    cvDict = {}\n",
    "    for func in functions:\n",
    "        cvScore = cross_val_score(func, X_train, y_train, cv=cv, verbose=verbose, scoring=scr)\n",
    "        cvDict[str(func).split('(')[0]] = [cvScore.mean(), cvScore.std()]\n",
    "    \n",
    "    return cvDict\n",
    "\n",
    "def cvDictNormalize(cvDict):\n",
    "    cvDictNormalized = {}\n",
    "    for key in cvDict.keys():\n",
    "        for i in cvDict[key]:\n",
    "            cvDictNormalized[key] = ['{:0.2f}'.format((cvDict[key][0]/cvDict[cvDict.keys()[0]][0])),\n",
    "                                     '{:0.2f}'.format((cvDict[key][1]/cvDict[cvDict.keys()[0]][1]))]\n",
    "    return cvDictNormalized"
   ]
  },
  {
   "cell_type": "code",
   "execution_count": 37,
   "metadata": {
    "collapsed": true
   },
   "outputs": [],
   "source": [
    "glmMod = LogisticRegression(penalty='l2', C=1, fit_intercept=True, verbose=2)\n",
    "adaMod = AdaBoostClassifier(n_estimators=55, learning_rate=1.0)\n",
    "\n",
    "\n",
    "gbMod = GradientBoostingClassifier(learning_rate=0.005, \\\n",
    "        n_estimators=1000,min_samples_split=600,max_features=5, \\\n",
    "        max_depth = 5, min_samples_leaf = 400,\n",
    "        subsample=0.8, random_state=10, warm_start=True)\n",
    "\n",
    "rfMod = RandomForestClassifier(n_estimators=1000, oob_score = True,max_features=5, \\\n",
    "                               min_samples_split=600,\\\n",
    "                                min_samples_leaf=300, max_depth=8,random_state=10)\n",
    "\n",
    "\n",
    "xgbMod = XGBClassifier()"
   ]
  },
  {
   "cell_type": "code",
   "execution_count": 38,
   "metadata": {},
   "outputs": [
    {
     "name": "stdout",
     "output_type": "stream",
     "text": [
      "[LibLinear][LibLinear][LibLinear][LibLinear][LibLinear]"
     ]
    },
    {
     "name": "stderr",
     "output_type": "stream",
     "text": [
      "[Parallel(n_jobs=1)]: Done   5 out of   5 | elapsed:    0.5s finished\n",
      "[Parallel(n_jobs=1)]: Done   5 out of   5 | elapsed:   10.5s finished\n",
      "[Parallel(n_jobs=1)]: Done   5 out of   5 | elapsed:  3.6min finished\n",
      "[Parallel(n_jobs=1)]: Done   5 out of   5 | elapsed:  4.4min finished\n",
      "[Parallel(n_jobs=1)]: Done   5 out of   5 | elapsed:    9.6s finished\n"
     ]
    }
   ],
   "source": [
    "cvD = cvDictGen(functions=[glmMod, adaMod, gbMod, rfMod, xgbMod],\\\n",
    "                         X_train=X_train, y_train=y_train, scr='roc_auc')"
   ]
  },
  {
   "cell_type": "code",
   "execution_count": 39,
   "metadata": {},
   "outputs": [
    {
     "data": {
      "text/plain": [
       "{'AdaBoostClassifier': [0.7358197841230869, 0.0027681721716876985],\n",
       " 'GradientBoostingClassifier': [0.7445378718222126, 0.005849020285634077],\n",
       " 'LogisticRegression': [0.7243581520941813, 0.004047123147593248],\n",
       " 'RandomForestClassifier': [0.7351701808344021, 0.003930123393026762],\n",
       " 'XGBClassifier': [0.7413371922606803, 0.004562082054616567]}"
      ]
     },
     "execution_count": 39,
     "metadata": {},
     "output_type": "execute_result"
    }
   ],
   "source": [
    "cvD"
   ]
  },
  {
   "cell_type": "code",
   "execution_count": 40,
   "metadata": {},
   "outputs": [
    {
     "data": {
      "text/plain": [
       "XGBClassifier(base_score=0.5, booster='gbtree', colsample_bylevel=1,\n",
       "       colsample_bytree=1, gamma=0, learning_rate=0.1, max_delta_step=0,\n",
       "       max_depth=3, min_child_weight=1, missing=None, n_estimators=100,\n",
       "       n_jobs=1, nthread=None, objective='binary:logistic', random_state=0,\n",
       "       reg_alpha=0, reg_lambda=1, scale_pos_weight=1, seed=None,\n",
       "       silent=True, subsample=1)"
      ]
     },
     "execution_count": 40,
     "metadata": {},
     "output_type": "execute_result"
    }
   ],
   "source": [
    "xgbMod.fit(X_train, y_train)"
   ]
  },
  {
   "cell_type": "code",
   "execution_count": 41,
   "metadata": {},
   "outputs": [
    {
     "data": {
      "text/plain": [
       "GradientBoostingClassifier(criterion='friedman_mse', init=None,\n",
       "              learning_rate=0.005, loss='deviance', max_depth=5,\n",
       "              max_features=5, max_leaf_nodes=None,\n",
       "              min_impurity_decrease=0.0, min_impurity_split=None,\n",
       "              min_samples_leaf=400, min_samples_split=600,\n",
       "              min_weight_fraction_leaf=0.0, n_estimators=1000,\n",
       "              presort='auto', random_state=10, subsample=0.8, verbose=0,\n",
       "              warm_start=True)"
      ]
     },
     "execution_count": 41,
     "metadata": {},
     "output_type": "execute_result"
    }
   ],
   "source": [
    "gbMod.fit(X_train,y_train)"
   ]
  },
  {
   "cell_type": "code",
   "execution_count": 42,
   "metadata": {},
   "outputs": [
    {
     "data": {
      "text/plain": [
       "RandomForestClassifier(bootstrap=True, class_weight=None, criterion='gini',\n",
       "            max_depth=8, max_features=5, max_leaf_nodes=None,\n",
       "            min_impurity_decrease=0.0, min_impurity_split=None,\n",
       "            min_samples_leaf=300, min_samples_split=600,\n",
       "            min_weight_fraction_leaf=0.0, n_estimators=1000, n_jobs=1,\n",
       "            oob_score=True, random_state=10, verbose=0, warm_start=False)"
      ]
     },
     "execution_count": 42,
     "metadata": {},
     "output_type": "execute_result"
    }
   ],
   "source": [
    "rfMod.fit(X_train,y_train)"
   ]
  },
  {
   "cell_type": "code",
   "execution_count": 43,
   "metadata": {},
   "outputs": [
    {
     "name": "stdout",
     "output_type": "stream",
     "text": [
      "[LibLinear]"
     ]
    },
    {
     "data": {
      "text/plain": [
       "LogisticRegression(C=1, class_weight=None, dual=False, fit_intercept=True,\n",
       "          intercept_scaling=1, max_iter=100, multi_class='ovr', n_jobs=1,\n",
       "          penalty='l2', random_state=None, solver='liblinear', tol=0.0001,\n",
       "          verbose=2, warm_start=False)"
      ]
     },
     "execution_count": 43,
     "metadata": {},
     "output_type": "execute_result"
    }
   ],
   "source": [
    "glmMod.fit(X_train,y_train)"
   ]
  },
  {
   "cell_type": "code",
   "execution_count": 44,
   "metadata": {},
   "outputs": [
    {
     "data": {
      "text/plain": [
       "AdaBoostClassifier(algorithm='SAMME.R', base_estimator=None,\n",
       "          learning_rate=1.0, n_estimators=55, random_state=None)"
      ]
     },
     "execution_count": 44,
     "metadata": {},
     "output_type": "execute_result"
    }
   ],
   "source": [
    "adaMod.fit(X_train,y_train)"
   ]
  },
  {
   "cell_type": "code",
   "execution_count": 45,
   "metadata": {},
   "outputs": [
    {
     "data": {
      "image/png": "[encoded data removed]",
      "text/plain": [
       "<Figure size 720x504 with 1 Axes>"
      ]
     },
     "metadata": {},
     "output_type": "display_data"
    }
   ],
   "source": [
    "roc_train=utils_ml.plot_RocCurve_models(X_train, y_train, [gbMod,glmMod,rfMod,adaMod,xgbMod],\\\n",
    "                ['GB','LOG','RF','ADA','XGB'] )"
   ]
  },
  {
   "cell_type": "code",
   "execution_count": 46,
   "metadata": {},
   "outputs": [
    {
     "data": {
      "image/png": "[encoded data removed]",
      "text/plain": [
       "<Figure size 720x504 with 1 Axes>"
      ]
     },
     "metadata": {},
     "output_type": "display_data"
    }
   ],
   "source": [
    "roc_test=utils_ml.plot_RocCurve_models(X_test, y_test,\\\n",
    "                [gbMod,glmMod,rfMod,adaMod,xgbMod],\\\n",
    "                ['GB','LOG','RF','ADA','XGB'] )"
   ]
  },
  {
   "cell_type": "code",
   "execution_count": 47,
   "metadata": {},
   "outputs": [
    {
     "data": {
      "text/html": [
       "<div>\n",
       "<style scoped>\n",
       "    .dataframe tbody tr th:only-of-type {\n",
       "        vertical-align: middle;\n",
       "    }\n",
       "\n",
       "    .dataframe tbody tr th {\n",
       "        vertical-align: top;\n",
       "    }\n",
       "\n",
       "    .dataframe thead th {\n",
       "        text-align: right;\n",
       "    }\n",
       "</style>\n",
       "<table border=\"1\" class=\"dataframe\">\n",
       "  <thead>\n",
       "    <tr style=\"text-align: right;\">\n",
       "      <th></th>\n",
       "      <th>model</th>\n",
       "      <th>test</th>\n",
       "      <th>train</th>\n",
       "      <th>cv_train</th>\n",
       "    </tr>\n",
       "  </thead>\n",
       "  <tbody>\n",
       "    <tr>\n",
       "      <th>0</th>\n",
       "      <td>RF</td>\n",
       "      <td>0.734258</td>\n",
       "      <td>0.763966</td>\n",
       "      <td>[0.7351701808344021, 0.003930123393026762]</td>\n",
       "    </tr>\n",
       "    <tr>\n",
       "      <th>1</th>\n",
       "      <td>ADA</td>\n",
       "      <td>0.737799</td>\n",
       "      <td>0.749684</td>\n",
       "      <td>[0.7358197841230869, 0.0027681721716876985]</td>\n",
       "    </tr>\n",
       "    <tr>\n",
       "      <th>2</th>\n",
       "      <td>XGB</td>\n",
       "      <td>0.740281</td>\n",
       "      <td>0.768854</td>\n",
       "      <td>[0.7413371922606803, 0.004562082054616567]</td>\n",
       "    </tr>\n",
       "    <tr>\n",
       "      <th>3</th>\n",
       "      <td>GB</td>\n",
       "      <td>0.744175</td>\n",
       "      <td>0.784994</td>\n",
       "      <td>[0.7445378718222126, 0.005849020285634077]</td>\n",
       "    </tr>\n",
       "    <tr>\n",
       "      <th>4</th>\n",
       "      <td>LOG</td>\n",
       "      <td>0.722392</td>\n",
       "      <td>0.725663</td>\n",
       "      <td>[0.7243581520941813, 0.004047123147593248]</td>\n",
       "    </tr>\n",
       "  </tbody>\n",
       "</table>\n",
       "</div>"
      ],
      "text/plain": [
       "  model      test     train                                     cv_train\n",
       "0    RF  0.734258  0.763966   [0.7351701808344021, 0.003930123393026762]\n",
       "1   ADA  0.737799  0.749684  [0.7358197841230869, 0.0027681721716876985]\n",
       "2   XGB  0.740281  0.768854   [0.7413371922606803, 0.004562082054616567]\n",
       "3    GB  0.744175  0.784994   [0.7445378718222126, 0.005849020285634077]\n",
       "4   LOG  0.722392  0.725663   [0.7243581520941813, 0.004047123147593248]"
      ]
     },
     "execution_count": 47,
     "metadata": {},
     "output_type": "execute_result"
    }
   ],
   "source": [
    "df_cv_train=pd.DataFrame(cvD.items(),columns=['model','cv_train'])\n",
    "df_cv_train.model=['XGB','LOG','ADA','GB','RF']\n",
    "\n",
    "df_roc=pd.DataFrame(roc_test.items(),columns=['model','test'])\n",
    "df_roc=pd.merge(df_roc,pd.DataFrame(roc_train.items(),columns=['model','train']))\n",
    "df_roc=pd.merge(df_roc,df_cv_train)\n",
    "\n",
    "df_roc"
   ]
  },
  {
   "cell_type": "markdown",
   "metadata": {},
   "source": [
    "# Recursive Feature Elimination"
   ]
  },
  {
   "cell_type": "raw",
   "metadata": {},
   "source": [
    "It works by recursively removing attributes and building a model on those attributes that remain. It uses the model accuracy to identify which attributes (and combination of attributes) contribute the most to predicting the target attribute."
   ]
  },
  {
   "cell_type": "code",
   "execution_count": 49,
   "metadata": {},
   "outputs": [
    {
     "name": "stdout",
     "output_type": "stream",
     "text": [
      "Feature ranking:\n",
      "1. feature occupation_duration_total (0.303472)\n",
      "2. feature branch_region (0.211085)\n",
      "3. feature total_income (0.135370)\n",
      "4. feature CollateralValueToDebt_Ratio (0.123446)\n",
      "5. feature gender (0.087538)\n",
      "6. feature exposure_3 (0.047220)\n",
      "7. feature days_with_bank (0.038002)\n",
      "8. feature exposure_1 (0.024385)\n",
      "9. feature dependent (0.023308)\n",
      "10. feature exposure_2 (0.006173)\n"
     ]
    },
    {
     "data": {
      "image/png": "[encoded data removed]",
      "text/plain": [
       "<Figure size 1080x360 with 1 Axes>"
      ]
     },
     "metadata": {},
     "output_type": "display_data"
    }
   ],
   "source": [
    "rfMod.fit(X_train,y_train)\n",
    "\n",
    "forest = rfMod\n",
    "\n",
    "importances = forest.feature_importances_\n",
    "#std = np.std([tree.feature_importances_ for tree in forest.n_estimators], axis=0)\n",
    "\n",
    "indices = np.argsort(importances)[::-1]\n",
    "\n",
    "# Print the feature ranking\n",
    "print(\"Feature ranking:\")\n",
    "\n",
    "for f in range(X.shape[1]):\n",
    "    print(\"%d. feature %s (%f)\" % (f + 1, X.columns[indices[f]], \n",
    "                                   importances[indices[f]]))\n",
    "\n",
    "# Plot the feature importances of the forest\n",
    "plt.figure(figsize=(15,5))\n",
    "plt.title(\"Feature importances\")\n",
    "plt.bar(range(X.shape[1]), importances[indices],\n",
    "       color=\"r\", align=\"center\")\n",
    "#color=\"r\", yerr=std[indices], align=\"center\")\n",
    "plt.xticks(range(X.shape[1]), indices)\n",
    "plt.xlim([-1, X.shape[1]])\n",
    "plt.show()"
   ]
  },
  {
   "cell_type": "markdown",
   "metadata": {},
   "source": [
    "# Building Scorecard"
   ]
  },
  {
   "cell_type": "code",
   "execution_count": 39,
   "metadata": {},
   "outputs": [],
   "source": [
    "df_train_bin2=df_train_bin[['bad']+importance_list_bin]\n",
    "df_test_bin2=df_test_bin[['bad']+importance_list_bin]\n",
    "df_bin2=df_bin[['bad']+importance_list_bin]"
   ]
  },
  {
   "cell_type": "code",
   "execution_count": 83,
   "metadata": {},
   "outputs": [
    {
     "data": {
      "text/html": [
       "<div>\n",
       "<style scoped>\n",
       "    .dataframe tbody tr th:only-of-type {\n",
       "        vertical-align: middle;\n",
       "    }\n",
       "\n",
       "    .dataframe tbody tr th {\n",
       "        vertical-align: top;\n",
       "    }\n",
       "\n",
       "    .dataframe thead th {\n",
       "        text-align: right;\n",
       "    }\n",
       "</style>\n",
       "<table border=\"1\" class=\"dataframe\">\n",
       "  <thead>\n",
       "    <tr style=\"text-align: right;\">\n",
       "      <th></th>\n",
       "      <th>feature</th>\n",
       "      <th>ranking</th>\n",
       "      <th>group</th>\n",
       "    </tr>\n",
       "  </thead>\n",
       "  <tbody>\n",
       "    <tr>\n",
       "      <th>0</th>\n",
       "      <td>occupation_duration_total</td>\n",
       "      <td>0.868</td>\n",
       "      <td>employment</td>\n",
       "    </tr>\n",
       "    <tr>\n",
       "      <th>1</th>\n",
       "      <td>branch_region</td>\n",
       "      <td>0.848</td>\n",
       "      <td>demographic</td>\n",
       "    </tr>\n",
       "    <tr>\n",
       "      <th>2</th>\n",
       "      <td>days_with_bank</td>\n",
       "      <td>0.800</td>\n",
       "      <td>demographic</td>\n",
       "    </tr>\n",
       "    <tr>\n",
       "      <th>3</th>\n",
       "      <td>CollateralValueToDebt_Ratio</td>\n",
       "      <td>1.000</td>\n",
       "      <td>finance</td>\n",
       "    </tr>\n",
       "    <tr>\n",
       "      <th>4</th>\n",
       "      <td>TotalincomeToDebt_Ratio</td>\n",
       "      <td>NaN</td>\n",
       "      <td>finance</td>\n",
       "    </tr>\n",
       "    <tr>\n",
       "      <th>5</th>\n",
       "      <td>total_income</td>\n",
       "      <td>0.700</td>\n",
       "      <td>finance</td>\n",
       "    </tr>\n",
       "    <tr>\n",
       "      <th>6</th>\n",
       "      <td>exposure</td>\n",
       "      <td>NaN</td>\n",
       "      <td>employment</td>\n",
       "    </tr>\n",
       "    <tr>\n",
       "      <th>7</th>\n",
       "      <td>gender</td>\n",
       "      <td>0.844</td>\n",
       "      <td>demographic</td>\n",
       "    </tr>\n",
       "    <tr>\n",
       "      <th>8</th>\n",
       "      <td>dependent</td>\n",
       "      <td>0.322</td>\n",
       "      <td>demographic</td>\n",
       "    </tr>\n",
       "  </tbody>\n",
       "</table>\n",
       "</div>"
      ],
      "text/plain": [
       "                       feature  ranking        group\n",
       "0    occupation_duration_total    0.868   employment\n",
       "1                branch_region    0.848  demographic\n",
       "2               days_with_bank    0.800  demographic\n",
       "3  CollateralValueToDebt_Ratio    1.000      finance\n",
       "4      TotalincomeToDebt_Ratio      NaN      finance\n",
       "5                 total_income    0.700      finance\n",
       "6                     exposure      NaN   employment\n",
       "7                       gender    0.844  demographic\n",
       "8                    dependent    0.322  demographic"
      ]
     },
     "execution_count": 83,
     "metadata": {},
     "output_type": "execute_result"
    }
   ],
   "source": [
    "columns_group=df_bin2.columns.tolist()\n",
    "\n",
    "df_group=utils_ml.groups_importance_list_consumer(importance_list_bin)\n",
    "df_group.columns=[u'feature', u'ranking', u'group']\n",
    "#df_group.feature=columns_group[1:]\n",
    "#df_group.loc[df_group[df_group.feature=='residence_ownership'].index,'group']='demographic'\n",
    "#df_group.loc[df_group[df_group.feature=='sector_type'].index,'group']='business'\n",
    "df_group.loc[df_group[df_group.feature=='exposure'].index,'group']='employment'\n",
    "df_group"
   ]
  },
  {
   "cell_type": "code",
   "execution_count": 84,
   "metadata": {},
   "outputs": [
    {
     "name": "stdout",
     "output_type": "stream",
     "text": [
      "CPU times: user 16min 3s, sys: 17.4 s, total: 16min 21s\n",
      "Wall time: 3min 5s\n"
     ]
    }
   ],
   "source": [
    "%%time\n",
    "df_train_result=run_100fits_consumer(df_train_bin2)"
   ]
  },
  {
   "cell_type": "code",
   "execution_count": 85,
   "metadata": {},
   "outputs": [
    {
     "name": "stdout",
     "output_type": "stream",
     "text": [
      "Test  : Train\n",
      "0.728 0.731\n"
     ]
    },
    {
     "data": {
      "image/png": "[encoded data removed]",
      "text/plain": [
       "<Figure size 720x360 with 1 Axes>"
      ]
     },
     "metadata": {},
     "output_type": "display_data"
    }
   ],
   "source": [
    "show_results_100fits(df_train_result)"
   ]
  },
  {
   "cell_type": "code",
   "execution_count": 74,
   "metadata": {},
   "outputs": [
    {
     "data": {
      "text/html": [
       "<div>\n",
       "<style scoped>\n",
       "    .dataframe tbody tr th:only-of-type {\n",
       "        vertical-align: middle;\n",
       "    }\n",
       "\n",
       "    .dataframe tbody tr th {\n",
       "        vertical-align: top;\n",
       "    }\n",
       "\n",
       "    .dataframe thead th {\n",
       "        text-align: right;\n",
       "    }\n",
       "</style>\n",
       "<table border=\"1\" class=\"dataframe\">\n",
       "  <thead>\n",
       "    <tr style=\"text-align: right;\">\n",
       "      <th></th>\n",
       "      <th>level_0</th>\n",
       "      <th>level_1</th>\n",
       "      <th>corr_coeff</th>\n",
       "    </tr>\n",
       "  </thead>\n",
       "  <tbody>\n",
       "    <tr>\n",
       "      <th>30</th>\n",
       "      <td>total_income</td>\n",
       "      <td>branch_region</td>\n",
       "      <td>0.378118</td>\n",
       "    </tr>\n",
       "    <tr>\n",
       "      <th>51</th>\n",
       "      <td>branch_region</td>\n",
       "      <td>total_income</td>\n",
       "      <td>0.378118</td>\n",
       "    </tr>\n",
       "  </tbody>\n",
       "</table>\n",
       "</div>"
      ],
      "text/plain": [
       "          level_0        level_1  corr_coeff\n",
       "30   total_income  branch_region    0.378118\n",
       "51  branch_region   total_income    0.378118"
      ]
     },
     "execution_count": 74,
     "metadata": {},
     "output_type": "execute_result"
    }
   ],
   "source": [
    "corr_par_list(df_train_result,corr_limit=0.30)"
   ]
  },
  {
   "cell_type": "code",
   "execution_count": 75,
   "metadata": {},
   "outputs": [
    {
     "data": {
      "text/html": [
       "<div>\n",
       "<style scoped>\n",
       "    .dataframe tbody tr th:only-of-type {\n",
       "        vertical-align: middle;\n",
       "    }\n",
       "\n",
       "    .dataframe tbody tr th {\n",
       "        vertical-align: top;\n",
       "    }\n",
       "\n",
       "    .dataframe thead th {\n",
       "        text-align: right;\n",
       "    }\n",
       "</style>\n",
       "<table border=\"1\" class=\"dataframe\">\n",
       "  <thead>\n",
       "    <tr style=\"text-align: right;\">\n",
       "      <th></th>\n",
       "      <th>feature</th>\n",
       "      <th>mean</th>\n",
       "      <th>std</th>\n",
       "      <th>std_percent</th>\n",
       "      <th>weight</th>\n",
       "      <th>ranking</th>\n",
       "      <th>group</th>\n",
       "    </tr>\n",
       "  </thead>\n",
       "  <tbody>\n",
       "    <tr>\n",
       "      <th>0</th>\n",
       "      <td>total_income</td>\n",
       "      <td>1.089435</td>\n",
       "      <td>0.052369</td>\n",
       "      <td>0.05</td>\n",
       "      <td>0.20</td>\n",
       "      <td>0.700</td>\n",
       "      <td>finance</td>\n",
       "    </tr>\n",
       "    <tr>\n",
       "      <th>1</th>\n",
       "      <td>gender</td>\n",
       "      <td>1.083767</td>\n",
       "      <td>0.050720</td>\n",
       "      <td>0.05</td>\n",
       "      <td>0.20</td>\n",
       "      <td>0.844</td>\n",
       "      <td>demographic</td>\n",
       "    </tr>\n",
       "    <tr>\n",
       "      <th>2</th>\n",
       "      <td>branch_region</td>\n",
       "      <td>0.825645</td>\n",
       "      <td>0.025936</td>\n",
       "      <td>0.03</td>\n",
       "      <td>0.15</td>\n",
       "      <td>0.848</td>\n",
       "      <td>demographic</td>\n",
       "    </tr>\n",
       "    <tr>\n",
       "      <th>3</th>\n",
       "      <td>occupation_duration_total</td>\n",
       "      <td>0.637313</td>\n",
       "      <td>0.022840</td>\n",
       "      <td>0.04</td>\n",
       "      <td>0.12</td>\n",
       "      <td>0.868</td>\n",
       "      <td>employment</td>\n",
       "    </tr>\n",
       "    <tr>\n",
       "      <th>4</th>\n",
       "      <td>exposure</td>\n",
       "      <td>0.576548</td>\n",
       "      <td>0.031512</td>\n",
       "      <td>0.05</td>\n",
       "      <td>0.10</td>\n",
       "      <td>NaN</td>\n",
       "      <td>employment</td>\n",
       "    </tr>\n",
       "    <tr>\n",
       "      <th>5</th>\n",
       "      <td>CollateralValueToDebt_Ratio</td>\n",
       "      <td>0.528539</td>\n",
       "      <td>0.039377</td>\n",
       "      <td>0.07</td>\n",
       "      <td>0.10</td>\n",
       "      <td>1.000</td>\n",
       "      <td>finance</td>\n",
       "    </tr>\n",
       "    <tr>\n",
       "      <th>6</th>\n",
       "      <td>dependent</td>\n",
       "      <td>0.496589</td>\n",
       "      <td>0.060655</td>\n",
       "      <td>0.12</td>\n",
       "      <td>0.09</td>\n",
       "      <td>0.322</td>\n",
       "      <td>demographic</td>\n",
       "    </tr>\n",
       "    <tr>\n",
       "      <th>7</th>\n",
       "      <td>days_with_bank</td>\n",
       "      <td>0.284933</td>\n",
       "      <td>0.035402</td>\n",
       "      <td>0.12</td>\n",
       "      <td>0.05</td>\n",
       "      <td>0.800</td>\n",
       "      <td>demographic</td>\n",
       "    </tr>\n",
       "  </tbody>\n",
       "</table>\n",
       "</div>"
      ],
      "text/plain": [
       "                       feature      mean       std  std_percent  weight  \\\n",
       "0                 total_income  1.089435  0.052369         0.05    0.20   \n",
       "1                       gender  1.083767  0.050720         0.05    0.20   \n",
       "2                branch_region  0.825645  0.025936         0.03    0.15   \n",
       "3    occupation_duration_total  0.637313  0.022840         0.04    0.12   \n",
       "4                     exposure  0.576548  0.031512         0.05    0.10   \n",
       "5  CollateralValueToDebt_Ratio  0.528539  0.039377         0.07    0.10   \n",
       "6                    dependent  0.496589  0.060655         0.12    0.09   \n",
       "7               days_with_bank  0.284933  0.035402         0.12    0.05   \n",
       "\n",
       "   ranking        group  \n",
       "0    0.700      finance  \n",
       "1    0.844  demographic  \n",
       "2    0.848  demographic  \n",
       "3    0.868   employment  \n",
       "4      NaN   employment  \n",
       "5    1.000      finance  \n",
       "6    0.322  demographic  \n",
       "7    0.800  demographic  "
      ]
     },
     "execution_count": 75,
     "metadata": {},
     "output_type": "execute_result"
    }
   ],
   "source": [
    "df_tmp=unstable_features(df_train_result)\n",
    "df_tmp['weight']=np.round(df_tmp['mean']/df_tmp['mean'].sum(),2)\n",
    "df_tmp=df_tmp.sort_values(by='mean',ascending=False)\n",
    "#df_tmp\n",
    "df_tmp=pd.merge(df_tmp,df_group)\n",
    "df_tmp"
   ]
  },
  {
   "cell_type": "code",
   "execution_count": 76,
   "metadata": {},
   "outputs": [
    {
     "data": {
      "text/html": [
       "<div>\n",
       "<style scoped>\n",
       "    .dataframe tbody tr th:only-of-type {\n",
       "        vertical-align: middle;\n",
       "    }\n",
       "\n",
       "    .dataframe tbody tr th {\n",
       "        vertical-align: top;\n",
       "    }\n",
       "\n",
       "    .dataframe thead th {\n",
       "        text-align: right;\n",
       "    }\n",
       "</style>\n",
       "<table border=\"1\" class=\"dataframe\">\n",
       "  <thead>\n",
       "    <tr style=\"text-align: right;\">\n",
       "      <th></th>\n",
       "      <th>group</th>\n",
       "      <th>weight</th>\n",
       "    </tr>\n",
       "  </thead>\n",
       "  <tbody>\n",
       "    <tr>\n",
       "      <th>0</th>\n",
       "      <td>demographic</td>\n",
       "      <td>0.49</td>\n",
       "    </tr>\n",
       "    <tr>\n",
       "      <th>2</th>\n",
       "      <td>finance</td>\n",
       "      <td>0.30</td>\n",
       "    </tr>\n",
       "    <tr>\n",
       "      <th>1</th>\n",
       "      <td>employment</td>\n",
       "      <td>0.22</td>\n",
       "    </tr>\n",
       "  </tbody>\n",
       "</table>\n",
       "</div>"
      ],
      "text/plain": [
       "         group  weight\n",
       "0  demographic    0.49\n",
       "2      finance    0.30\n",
       "1   employment    0.22"
      ]
     },
     "execution_count": 76,
     "metadata": {},
     "output_type": "execute_result"
    }
   ],
   "source": [
    "df_tmp.groupby('group')['weight'].sum().reset_index().sort_values(by='weight',ascending=False)"
   ]
  },
  {
   "cell_type": "code",
   "execution_count": 77,
   "metadata": {},
   "outputs": [],
   "source": [
    "df_train_card,df_train_score,df_train_fit=run_1fit_consumer(df_train_bin2)"
   ]
  },
  {
   "cell_type": "code",
   "execution_count": 78,
   "metadata": {},
   "outputs": [],
   "source": [
    "df_train_card=df_train_card.reset_index().drop('index',1)\n",
    "df_train_score=df_train_score.reset_index().drop('index',1)\n",
    "df_train_fit=df_train_fit.reset_index().drop('index',1)\n",
    "df_train_bin2=df_train_bin2.reset_index().drop('index',1)\n",
    "df_train_bin=df_train_bin.reset_index().drop('index',1)"
   ]
  },
  {
   "cell_type": "code",
   "execution_count": 363,
   "metadata": {},
   "outputs": [],
   "source": [
    "df_train_score=pd.concat([df_train_bin[['bad','clientid','accountid']],df_train_score],1)"
   ]
  },
  {
   "cell_type": "code",
   "execution_count": 364,
   "metadata": {},
   "outputs": [
    {
     "data": {
      "image/png": "[encoded data removed]",
      "text/plain": [
       "<Figure size 720x360 with 1 Axes>"
      ]
     },
     "metadata": {},
     "output_type": "display_data"
    }
   ],
   "source": [
    "plt.figure(figsize=(10,5))\n",
    "sns.distplot( df_train_score[df_train_score.bad==1][\"score\"] , color=\"blue\", label=\"Good\", norm_hist=False)\n",
    "sns.distplot( df_train_score[df_train_score.bad==0][\"score\"] , color=\"red\", label=\"Bad\",norm_hist=False)\n",
    "plt.show()"
   ]
  },
  {
   "cell_type": "code",
   "execution_count": 365,
   "metadata": {},
   "outputs": [
    {
     "data": {
      "text/html": [
       "<div>\n",
       "<style scoped>\n",
       "    .dataframe tbody tr th:only-of-type {\n",
       "        vertical-align: middle;\n",
       "    }\n",
       "\n",
       "    .dataframe tbody tr th {\n",
       "        vertical-align: top;\n",
       "    }\n",
       "\n",
       "    .dataframe thead th {\n",
       "        text-align: right;\n",
       "    }\n",
       "</style>\n",
       "<table border=\"1\" class=\"dataframe\">\n",
       "  <thead>\n",
       "    <tr style=\"text-align: right;\">\n",
       "      <th></th>\n",
       "      <th>total_point</th>\n",
       "      <th>weight</th>\n",
       "    </tr>\n",
       "    <tr>\n",
       "      <th>variable</th>\n",
       "      <th></th>\n",
       "      <th></th>\n",
       "    </tr>\n",
       "  </thead>\n",
       "  <tbody>\n",
       "    <tr>\n",
       "      <th>branch_region</th>\n",
       "      <td>70</td>\n",
       "      <td>0.21</td>\n",
       "    </tr>\n",
       "    <tr>\n",
       "      <th>occupation_duration_total</th>\n",
       "      <td>66</td>\n",
       "      <td>0.19</td>\n",
       "    </tr>\n",
       "    <tr>\n",
       "      <th>total_income</th>\n",
       "      <td>44</td>\n",
       "      <td>0.13</td>\n",
       "    </tr>\n",
       "    <tr>\n",
       "      <th>exposure</th>\n",
       "      <td>41</td>\n",
       "      <td>0.12</td>\n",
       "    </tr>\n",
       "    <tr>\n",
       "      <th>gender</th>\n",
       "      <td>36</td>\n",
       "      <td>0.11</td>\n",
       "    </tr>\n",
       "    <tr>\n",
       "      <th>CollateralValueToDebt_Ratio</th>\n",
       "      <td>32</td>\n",
       "      <td>0.09</td>\n",
       "    </tr>\n",
       "    <tr>\n",
       "      <th>days_with_bank</th>\n",
       "      <td>30</td>\n",
       "      <td>0.09</td>\n",
       "    </tr>\n",
       "    <tr>\n",
       "      <th>dependent</th>\n",
       "      <td>20</td>\n",
       "      <td>0.06</td>\n",
       "    </tr>\n",
       "  </tbody>\n",
       "</table>\n",
       "</div>"
      ],
      "text/plain": [
       "                             total_point  weight\n",
       "variable                                        \n",
       "branch_region                         70    0.21\n",
       "occupation_duration_total             66    0.19\n",
       "total_income                          44    0.13\n",
       "exposure                              41    0.12\n",
       "gender                                36    0.11\n",
       "CollateralValueToDebt_Ratio           32    0.09\n",
       "days_with_bank                        30    0.09\n",
       "dependent                             20    0.06"
      ]
     },
     "execution_count": 365,
     "metadata": {},
     "output_type": "execute_result"
    }
   ],
   "source": [
    "df_scorecard_train=create_scorecard_weight(df_train_card)\n",
    "df_scorecard_train"
   ]
  },
  {
   "cell_type": "code",
   "execution_count": 366,
   "metadata": {},
   "outputs": [],
   "source": [
    "df_card,df_score,df_fit=run_1fit_consumer(df_bin2)"
   ]
  },
  {
   "cell_type": "code",
   "execution_count": 367,
   "metadata": {},
   "outputs": [],
   "source": [
    "df_card=df_card.reset_index().drop('index',1)\n",
    "df_score=df_score.reset_index().drop('index',1)\n",
    "df_fit=df_fit.reset_index().drop('index',1)\n",
    "df_bin2=df_bin2.reset_index().drop('index',1)\n",
    "df_bin=df_bin.reset_index().drop('index',1)\n",
    "df_total_score=pd.concat([df_bin[['bad','clientid','accountid']],df_score],1)"
   ]
  },
  {
   "cell_type": "code",
   "execution_count": 368,
   "metadata": {},
   "outputs": [],
   "source": [
    "df_card.points=df_card.points.astype(int)\n",
    "df_card['total_iv']=df_card['total_iv'].astype(float)\n",
    "df_card['bin_iv']=df_card['bin_iv'].astype(float)"
   ]
  },
  {
   "cell_type": "code",
   "execution_count": 369,
   "metadata": {},
   "outputs": [
    {
     "data": {
      "image/png": "[encoded data removed]",
      "text/plain": [
       "<Figure size 720x360 with 1 Axes>"
      ]
     },
     "metadata": {},
     "output_type": "display_data"
    }
   ],
   "source": [
    "plt.figure(figsize=(10,5))\n",
    "sns.distplot( df_total_score[df_total_score.bad==1][\"score\"] , color=\"red\", label=\"Bad\",norm_hist=False)\n",
    "sns.distplot( df_total_score[df_total_score.bad==0][\"score\"] , color=\"blue\", label=\"Good\", norm_hist=False)\n",
    "plt.show()"
   ]
  },
  {
   "cell_type": "code",
   "execution_count": 370,
   "metadata": {},
   "outputs": [
    {
     "data": {
      "text/html": [
       "<div>\n",
       "<style scoped>\n",
       "    .dataframe tbody tr th:only-of-type {\n",
       "        vertical-align: middle;\n",
       "    }\n",
       "\n",
       "    .dataframe tbody tr th {\n",
       "        vertical-align: top;\n",
       "    }\n",
       "\n",
       "    .dataframe thead th {\n",
       "        text-align: right;\n",
       "    }\n",
       "</style>\n",
       "<table border=\"1\" class=\"dataframe\">\n",
       "  <thead>\n",
       "    <tr style=\"text-align: right;\">\n",
       "      <th></th>\n",
       "      <th>total_point</th>\n",
       "      <th>weight</th>\n",
       "    </tr>\n",
       "    <tr>\n",
       "      <th>variable</th>\n",
       "      <th></th>\n",
       "      <th></th>\n",
       "    </tr>\n",
       "  </thead>\n",
       "  <tbody>\n",
       "    <tr>\n",
       "      <th>occupation_duration_total</th>\n",
       "      <td>68</td>\n",
       "      <td>0.21</td>\n",
       "    </tr>\n",
       "    <tr>\n",
       "      <th>branch_region</th>\n",
       "      <td>67</td>\n",
       "      <td>0.20</td>\n",
       "    </tr>\n",
       "    <tr>\n",
       "      <th>total_income</th>\n",
       "      <td>43</td>\n",
       "      <td>0.13</td>\n",
       "    </tr>\n",
       "    <tr>\n",
       "      <th>exposure</th>\n",
       "      <td>40</td>\n",
       "      <td>0.12</td>\n",
       "    </tr>\n",
       "    <tr>\n",
       "      <th>gender</th>\n",
       "      <td>36</td>\n",
       "      <td>0.11</td>\n",
       "    </tr>\n",
       "    <tr>\n",
       "      <th>CollateralValueToDebt_Ratio</th>\n",
       "      <td>29</td>\n",
       "      <td>0.09</td>\n",
       "    </tr>\n",
       "    <tr>\n",
       "      <th>days_with_bank</th>\n",
       "      <td>26</td>\n",
       "      <td>0.08</td>\n",
       "    </tr>\n",
       "    <tr>\n",
       "      <th>dependent</th>\n",
       "      <td>21</td>\n",
       "      <td>0.06</td>\n",
       "    </tr>\n",
       "  </tbody>\n",
       "</table>\n",
       "</div>"
      ],
      "text/plain": [
       "                             total_point  weight\n",
       "variable                                        \n",
       "occupation_duration_total             68    0.21\n",
       "branch_region                         67    0.20\n",
       "total_income                          43    0.13\n",
       "exposure                              40    0.12\n",
       "gender                                36    0.11\n",
       "CollateralValueToDebt_Ratio           29    0.09\n",
       "days_with_bank                        26    0.08\n",
       "dependent                             21    0.06"
      ]
     },
     "execution_count": 370,
     "metadata": {},
     "output_type": "execute_result"
    }
   ],
   "source": [
    "df_scorecard_rand100=create_scorecard_weight(df_card)\n",
    "df_scorecard_rand100"
   ]
  },
  {
   "cell_type": "code",
   "execution_count": 371,
   "metadata": {},
   "outputs": [
    {
     "data": {
      "text/html": [
       "<div>\n",
       "<style scoped>\n",
       "    .dataframe tbody tr th:only-of-type {\n",
       "        vertical-align: middle;\n",
       "    }\n",
       "\n",
       "    .dataframe tbody tr th {\n",
       "        vertical-align: top;\n",
       "    }\n",
       "\n",
       "    .dataframe thead th {\n",
       "        text-align: right;\n",
       "    }\n",
       "</style>\n",
       "<table border=\"1\" class=\"dataframe\">\n",
       "  <thead>\n",
       "    <tr style=\"text-align: right;\">\n",
       "      <th></th>\n",
       "      <th>variable</th>\n",
       "      <th>total_iv</th>\n",
       "    </tr>\n",
       "  </thead>\n",
       "  <tbody>\n",
       "    <tr>\n",
       "      <th>23</th>\n",
       "      <td>occupation_duration_total</td>\n",
       "      <td>0.31</td>\n",
       "    </tr>\n",
       "    <tr>\n",
       "      <th>21</th>\n",
       "      <td>branch_region</td>\n",
       "      <td>0.26</td>\n",
       "    </tr>\n",
       "    <tr>\n",
       "      <th>7</th>\n",
       "      <td>exposure</td>\n",
       "      <td>0.16</td>\n",
       "    </tr>\n",
       "    <tr>\n",
       "      <th>17</th>\n",
       "      <td>days_with_bank</td>\n",
       "      <td>0.12</td>\n",
       "    </tr>\n",
       "    <tr>\n",
       "      <th>14</th>\n",
       "      <td>CollateralValueToDebt_Ratio</td>\n",
       "      <td>0.11</td>\n",
       "    </tr>\n",
       "    <tr>\n",
       "      <th>5</th>\n",
       "      <td>gender</td>\n",
       "      <td>0.05</td>\n",
       "    </tr>\n",
       "    <tr>\n",
       "      <th>10</th>\n",
       "      <td>total_income</td>\n",
       "      <td>0.04</td>\n",
       "    </tr>\n",
       "    <tr>\n",
       "      <th>1</th>\n",
       "      <td>dependent</td>\n",
       "      <td>0.04</td>\n",
       "    </tr>\n",
       "    <tr>\n",
       "      <th>0</th>\n",
       "      <td>basepoints</td>\n",
       "      <td>0.00</td>\n",
       "    </tr>\n",
       "  </tbody>\n",
       "</table>\n",
       "</div>"
      ],
      "text/plain": [
       "                       variable  total_iv\n",
       "23    occupation_duration_total      0.31\n",
       "21                branch_region      0.26\n",
       "7                      exposure      0.16\n",
       "17               days_with_bank      0.12\n",
       "14  CollateralValueToDebt_Ratio      0.11\n",
       "5                        gender      0.05\n",
       "10                 total_income      0.04\n",
       "1                     dependent      0.04\n",
       "0                    basepoints      0.00"
      ]
     },
     "execution_count": 371,
     "metadata": {},
     "output_type": "execute_result"
    }
   ],
   "source": [
    "df_iv=df_card[['variable','total_iv']].drop_duplicates()\n",
    "df_iv.total_iv=df_iv.total_iv.astype(float)\n",
    "df_iv=df_iv.sort_values(by='total_iv',ascending=False).round(2)\n",
    "df_iv"
   ]
  },
  {
   "cell_type": "code",
   "execution_count": 375,
   "metadata": {},
   "outputs": [
    {
     "name": "stderr",
     "output_type": "stream",
     "text": [
      "100%|██████████| 100/100 [11:03<00:00,  6.64s/it]\n"
     ]
    }
   ],
   "source": [
    "from tqdm import tqdm\n",
    "\n",
    "seeds=[ 135,  343,  382,  532,  551,  581,  773,  841,  846,  874,  948,\n",
    "          1036, 1106, 1353, 1542, 1599, 1676, 1768, 1857, 1919, 1996, 2033,\n",
    "          2218, 2263, 2327, 2347, 2397, 2569, 2592, 2595, 2733, 2748, 2756,\n",
    "          2785, 2808, 2948, 3008, 3059, 3241, 3258, 3402, 3700, 3744, 3828,\n",
    "          4008, 4110, 4175, 4506, 4562, 4650, 4658, 4687, 4824, 4978, 5271,\n",
    "          5295, 5373, 5375, 5501, 5567, 5611, 5737, 5767, 5868, 6203, 6222,\n",
    "          6289, 6348, 6395, 6416, 6467, 6503, 6517, 6586, 6726, 7115, 7210,\n",
    "          7221, 7283, 7388, 7429, 7628, 7703, 7716, 7736, 7860, 8279, 8367,\n",
    "          8459, 8670, 8767, 8915, 8998, 9061, 9151, 9423, 9483, 9636, 9665,\n",
    "          9764]\n",
    "\n",
    "df_card_100fits=pd.DataFrame(columns=['seed',u'variable', u'bin', u'count', u'count_distr', u'good', u'bad',\n",
    "       u'badprob', u'woe', u'bin_iv', u'total_iv', u'points'])\n",
    "\n",
    "for seed in tqdm(seeds):\n",
    "    df_card,df_score,df_fit=run_1fit_consumer(df_bin2,seed=seed)\n",
    "    df_card['seed']=seed\n",
    "    df_card_100fits=pd.concat([df_card_100fits,df_card])"
   ]
  },
  {
   "cell_type": "code",
   "execution_count": 376,
   "metadata": {},
   "outputs": [
    {
     "data": {
      "text/html": [
       "<div>\n",
       "<style scoped>\n",
       "    .dataframe tbody tr th:only-of-type {\n",
       "        vertical-align: middle;\n",
       "    }\n",
       "\n",
       "    .dataframe tbody tr th {\n",
       "        vertical-align: top;\n",
       "    }\n",
       "\n",
       "    .dataframe thead th {\n",
       "        text-align: right;\n",
       "    }\n",
       "</style>\n",
       "<table border=\"1\" class=\"dataframe\">\n",
       "  <thead>\n",
       "    <tr style=\"text-align: right;\">\n",
       "      <th></th>\n",
       "      <th>variable</th>\n",
       "      <th>ave_score</th>\n",
       "      <th>std_value</th>\n",
       "      <th>std_percent</th>\n",
       "    </tr>\n",
       "  </thead>\n",
       "  <tbody>\n",
       "    <tr>\n",
       "      <th>2</th>\n",
       "      <td>branch_region</td>\n",
       "      <td>71.91</td>\n",
       "      <td>1.764378</td>\n",
       "      <td>0.02</td>\n",
       "    </tr>\n",
       "    <tr>\n",
       "      <th>7</th>\n",
       "      <td>occupation_duration_total</td>\n",
       "      <td>68.46</td>\n",
       "      <td>2.171533</td>\n",
       "      <td>0.03</td>\n",
       "    </tr>\n",
       "    <tr>\n",
       "      <th>8</th>\n",
       "      <td>total_income</td>\n",
       "      <td>44.66</td>\n",
       "      <td>2.252810</td>\n",
       "      <td>0.05</td>\n",
       "    </tr>\n",
       "    <tr>\n",
       "      <th>6</th>\n",
       "      <td>gender</td>\n",
       "      <td>36.84</td>\n",
       "      <td>1.353783</td>\n",
       "      <td>0.04</td>\n",
       "    </tr>\n",
       "    <tr>\n",
       "      <th>5</th>\n",
       "      <td>exposure</td>\n",
       "      <td>36.50</td>\n",
       "      <td>1.909572</td>\n",
       "      <td>0.05</td>\n",
       "    </tr>\n",
       "    <tr>\n",
       "      <th>0</th>\n",
       "      <td>CollateralValueToDebt_Ratio</td>\n",
       "      <td>32.45</td>\n",
       "      <td>1.976503</td>\n",
       "      <td>0.06</td>\n",
       "    </tr>\n",
       "    <tr>\n",
       "      <th>3</th>\n",
       "      <td>days_with_bank</td>\n",
       "      <td>22.59</td>\n",
       "      <td>2.726951</td>\n",
       "      <td>0.12</td>\n",
       "    </tr>\n",
       "    <tr>\n",
       "      <th>4</th>\n",
       "      <td>dependent</td>\n",
       "      <td>21.12</td>\n",
       "      <td>2.075738</td>\n",
       "      <td>0.10</td>\n",
       "    </tr>\n",
       "  </tbody>\n",
       "</table>\n",
       "</div>"
      ],
      "text/plain": [
       "                      variable  ave_score  std_value  std_percent\n",
       "2                branch_region      71.91   1.764378         0.02\n",
       "7    occupation_duration_total      68.46   2.171533         0.03\n",
       "8                 total_income      44.66   2.252810         0.05\n",
       "6                       gender      36.84   1.353783         0.04\n",
       "5                     exposure      36.50   1.909572         0.05\n",
       "0  CollateralValueToDebt_Ratio      32.45   1.976503         0.06\n",
       "3               days_with_bank      22.59   2.726951         0.12\n",
       "4                    dependent      21.12   2.075738         0.10"
      ]
     },
     "execution_count": 376,
     "metadata": {},
     "output_type": "execute_result"
    }
   ],
   "source": [
    "df_card_100fits.points=df_card_100fits.points.astype(int)\n",
    "df_tmp=df_card_100fits.groupby(['seed','variable'])['points'].agg(['min','max']).reset_index()\n",
    "df_tmp['min']=df_tmp['min'].astype(int)\n",
    "df_tmp['max']=df_tmp['max'].astype(int)\n",
    "df_tmp['total_point']=df_tmp['max']-df_tmp['min']\n",
    "\n",
    "df_ave_scorecard=df_tmp.groupby('variable')['total_point'].agg(['mean','std']).reset_index()\n",
    "df_ave_scorecard['std_percent']=df_ave_scorecard['mean']/df_ave_scorecard['std']\n",
    "df_ave_scorecard['std_percent']=np.round(df_ave_scorecard['std']/df_ave_scorecard['mean'],2)\n",
    "\n",
    "df_ave_scorecard.columns=[u'variable', u'ave_score', u'std_value', u'std_percent']\n",
    "df_ave_scorecard=df_ave_scorecard.sort_values(by='ave_score',ascending=False)\n",
    "df_ave_scorecard=df_ave_scorecard[df_ave_scorecard.variable!='basepoints']\n",
    "df_ave_scorecard"
   ]
  },
  {
   "cell_type": "code",
   "execution_count": 377,
   "metadata": {},
   "outputs": [
    {
     "data": {
      "text/html": [
       "<div>\n",
       "<style scoped>\n",
       "    .dataframe tbody tr th:only-of-type {\n",
       "        vertical-align: middle;\n",
       "    }\n",
       "\n",
       "    .dataframe tbody tr th {\n",
       "        vertical-align: top;\n",
       "    }\n",
       "\n",
       "    .dataframe thead th {\n",
       "        text-align: right;\n",
       "    }\n",
       "</style>\n",
       "<table border=\"1\" class=\"dataframe\">\n",
       "  <thead>\n",
       "    <tr style=\"text-align: right;\">\n",
       "      <th></th>\n",
       "      <th>variable</th>\n",
       "      <th>total_point</th>\n",
       "      <th>weight</th>\n",
       "    </tr>\n",
       "  </thead>\n",
       "  <tbody>\n",
       "    <tr>\n",
       "      <th>0</th>\n",
       "      <td>branch_region</td>\n",
       "      <td>72</td>\n",
       "      <td>0.22</td>\n",
       "    </tr>\n",
       "    <tr>\n",
       "      <th>1</th>\n",
       "      <td>occupation_duration_total</td>\n",
       "      <td>68</td>\n",
       "      <td>0.20</td>\n",
       "    </tr>\n",
       "    <tr>\n",
       "      <th>2</th>\n",
       "      <td>total_income</td>\n",
       "      <td>45</td>\n",
       "      <td>0.14</td>\n",
       "    </tr>\n",
       "    <tr>\n",
       "      <th>3</th>\n",
       "      <td>gender</td>\n",
       "      <td>37</td>\n",
       "      <td>0.11</td>\n",
       "    </tr>\n",
       "    <tr>\n",
       "      <th>4</th>\n",
       "      <td>exposure</td>\n",
       "      <td>36</td>\n",
       "      <td>0.11</td>\n",
       "    </tr>\n",
       "    <tr>\n",
       "      <th>5</th>\n",
       "      <td>CollateralValueToDebt_Ratio</td>\n",
       "      <td>32</td>\n",
       "      <td>0.10</td>\n",
       "    </tr>\n",
       "    <tr>\n",
       "      <th>6</th>\n",
       "      <td>days_with_bank</td>\n",
       "      <td>22</td>\n",
       "      <td>0.07</td>\n",
       "    </tr>\n",
       "    <tr>\n",
       "      <th>7</th>\n",
       "      <td>dependent</td>\n",
       "      <td>21</td>\n",
       "      <td>0.06</td>\n",
       "    </tr>\n",
       "  </tbody>\n",
       "</table>\n",
       "</div>"
      ],
      "text/plain": [
       "                      variable  total_point  weight\n",
       "0                branch_region           72    0.22\n",
       "1    occupation_duration_total           68    0.20\n",
       "2                 total_income           45    0.14\n",
       "3                       gender           37    0.11\n",
       "4                     exposure           36    0.11\n",
       "5  CollateralValueToDebt_Ratio           32    0.10\n",
       "6               days_with_bank           22    0.07\n",
       "7                    dependent           21    0.06"
      ]
     },
     "execution_count": 377,
     "metadata": {},
     "output_type": "execute_result"
    }
   ],
   "source": [
    "df_scorecard_final=df_scorecard_final.reset_index()\n",
    "df_scorecard_final"
   ]
  },
  {
   "cell_type": "code",
   "execution_count": 379,
   "metadata": {},
   "outputs": [],
   "source": [
    "df_scorecard_train=df_scorecard_train.reset_index()"
   ]
  },
  {
   "cell_type": "code",
   "execution_count": 380,
   "metadata": {},
   "outputs": [],
   "source": [
    "df_scorecard_rand100=df_scorecard_rand100.reset_index()"
   ]
  },
  {
   "cell_type": "code",
   "execution_count": 382,
   "metadata": {},
   "outputs": [
    {
     "data": {
      "text/html": [
       "<div>\n",
       "<style scoped>\n",
       "    .dataframe tbody tr th:only-of-type {\n",
       "        vertical-align: middle;\n",
       "    }\n",
       "\n",
       "    .dataframe tbody tr th {\n",
       "        vertical-align: top;\n",
       "    }\n",
       "\n",
       "    .dataframe thead th {\n",
       "        text-align: right;\n",
       "    }\n",
       "</style>\n",
       "<table border=\"1\" class=\"dataframe\">\n",
       "  <thead>\n",
       "    <tr style=\"text-align: right;\">\n",
       "      <th></th>\n",
       "      <th>variable</th>\n",
       "      <th>ave_score</th>\n",
       "      <th>std_value</th>\n",
       "      <th>std_percent</th>\n",
       "      <th>index</th>\n",
       "      <th>total_point</th>\n",
       "      <th>weight</th>\n",
       "      <th>res_in_sigma</th>\n",
       "    </tr>\n",
       "  </thead>\n",
       "  <tbody>\n",
       "    <tr>\n",
       "      <th>0</th>\n",
       "      <td>branch_region</td>\n",
       "      <td>71.91</td>\n",
       "      <td>1.76</td>\n",
       "      <td>0.02</td>\n",
       "      <td>0</td>\n",
       "      <td>72</td>\n",
       "      <td>0.22</td>\n",
       "      <td>-0.05</td>\n",
       "    </tr>\n",
       "    <tr>\n",
       "      <th>1</th>\n",
       "      <td>occupation_duration_total</td>\n",
       "      <td>68.46</td>\n",
       "      <td>2.17</td>\n",
       "      <td>0.03</td>\n",
       "      <td>1</td>\n",
       "      <td>68</td>\n",
       "      <td>0.20</td>\n",
       "      <td>0.21</td>\n",
       "    </tr>\n",
       "    <tr>\n",
       "      <th>2</th>\n",
       "      <td>total_income</td>\n",
       "      <td>44.66</td>\n",
       "      <td>2.25</td>\n",
       "      <td>0.05</td>\n",
       "      <td>2</td>\n",
       "      <td>45</td>\n",
       "      <td>0.14</td>\n",
       "      <td>-0.15</td>\n",
       "    </tr>\n",
       "    <tr>\n",
       "      <th>3</th>\n",
       "      <td>gender</td>\n",
       "      <td>36.84</td>\n",
       "      <td>1.35</td>\n",
       "      <td>0.04</td>\n",
       "      <td>3</td>\n",
       "      <td>37</td>\n",
       "      <td>0.11</td>\n",
       "      <td>-0.12</td>\n",
       "    </tr>\n",
       "    <tr>\n",
       "      <th>4</th>\n",
       "      <td>exposure</td>\n",
       "      <td>36.50</td>\n",
       "      <td>1.91</td>\n",
       "      <td>0.05</td>\n",
       "      <td>4</td>\n",
       "      <td>36</td>\n",
       "      <td>0.11</td>\n",
       "      <td>0.26</td>\n",
       "    </tr>\n",
       "    <tr>\n",
       "      <th>5</th>\n",
       "      <td>CollateralValueToDebt_Ratio</td>\n",
       "      <td>32.45</td>\n",
       "      <td>1.98</td>\n",
       "      <td>0.06</td>\n",
       "      <td>5</td>\n",
       "      <td>32</td>\n",
       "      <td>0.10</td>\n",
       "      <td>0.23</td>\n",
       "    </tr>\n",
       "    <tr>\n",
       "      <th>6</th>\n",
       "      <td>days_with_bank</td>\n",
       "      <td>22.59</td>\n",
       "      <td>2.73</td>\n",
       "      <td>0.12</td>\n",
       "      <td>6</td>\n",
       "      <td>22</td>\n",
       "      <td>0.07</td>\n",
       "      <td>0.22</td>\n",
       "    </tr>\n",
       "    <tr>\n",
       "      <th>7</th>\n",
       "      <td>dependent</td>\n",
       "      <td>21.12</td>\n",
       "      <td>2.08</td>\n",
       "      <td>0.10</td>\n",
       "      <td>7</td>\n",
       "      <td>21</td>\n",
       "      <td>0.06</td>\n",
       "      <td>0.06</td>\n",
       "    </tr>\n",
       "  </tbody>\n",
       "</table>\n",
       "</div>"
      ],
      "text/plain": [
       "                      variable  ave_score  std_value  std_percent  index  \\\n",
       "0                branch_region      71.91       1.76         0.02      0   \n",
       "1    occupation_duration_total      68.46       2.17         0.03      1   \n",
       "2                 total_income      44.66       2.25         0.05      2   \n",
       "3                       gender      36.84       1.35         0.04      3   \n",
       "4                     exposure      36.50       1.91         0.05      4   \n",
       "5  CollateralValueToDebt_Ratio      32.45       1.98         0.06      5   \n",
       "6               days_with_bank      22.59       2.73         0.12      6   \n",
       "7                    dependent      21.12       2.08         0.10      7   \n",
       "\n",
       "   total_point  weight  res_in_sigma  \n",
       "0           72    0.22         -0.05  \n",
       "1           68    0.20          0.21  \n",
       "2           45    0.14         -0.15  \n",
       "3           37    0.11         -0.12  \n",
       "4           36    0.11          0.26  \n",
       "5           32    0.10          0.23  \n",
       "6           22    0.07          0.22  \n",
       "7           21    0.06          0.06  "
      ]
     },
     "execution_count": 382,
     "metadata": {},
     "output_type": "execute_result"
    }
   ],
   "source": [
    "df_tmp=pd.merge(df_ave_scorecard,df_scorecard_final,on='variable')\n",
    "df_tmp['res_in_sigma']=(df_tmp['ave_score']-df_tmp['total_point'])/df_tmp['std_value']\n",
    "df_tmp=np.round(df_tmp,2)\n",
    "df_tmp"
   ]
  },
  {
   "cell_type": "code",
   "execution_count": 386,
   "metadata": {},
   "outputs": [
    {
     "data": {
      "text/html": [
       "<div>\n",
       "<style scoped>\n",
       "    .dataframe tbody tr th:only-of-type {\n",
       "        vertical-align: middle;\n",
       "    }\n",
       "\n",
       "    .dataframe tbody tr th {\n",
       "        vertical-align: top;\n",
       "    }\n",
       "\n",
       "    .dataframe thead th {\n",
       "        text-align: right;\n",
       "    }\n",
       "</style>\n",
       "<table border=\"1\" class=\"dataframe\">\n",
       "  <thead>\n",
       "    <tr style=\"text-align: right;\">\n",
       "      <th></th>\n",
       "      <th>bad</th>\n",
       "      <th>clientid</th>\n",
       "      <th>accountid</th>\n",
       "      <th>dependent_points</th>\n",
       "      <th>gender_points</th>\n",
       "      <th>exposure_points</th>\n",
       "      <th>total_income_points</th>\n",
       "      <th>CollateralValueToDebt_Ratio_points</th>\n",
       "      <th>days_with_bank_points</th>\n",
       "      <th>branch_region_points</th>\n",
       "      <th>occupation_duration_total_points</th>\n",
       "      <th>score</th>\n",
       "    </tr>\n",
       "  </thead>\n",
       "  <tbody>\n",
       "    <tr>\n",
       "      <th>0</th>\n",
       "      <td>0</td>\n",
       "      <td>313690</td>\n",
       "      <td>1010008372</td>\n",
       "      <td>-8.0</td>\n",
       "      <td>-15.0</td>\n",
       "      <td>24.0</td>\n",
       "      <td>-4.0</td>\n",
       "      <td>0.0</td>\n",
       "      <td>1.0</td>\n",
       "      <td>-19.0</td>\n",
       "      <td>24.0</td>\n",
       "      <td>597.0</td>\n",
       "    </tr>\n",
       "    <tr>\n",
       "      <th>1</th>\n",
       "      <td>0</td>\n",
       "      <td>7257</td>\n",
       "      <td>1010008414</td>\n",
       "      <td>-8.0</td>\n",
       "      <td>-15.0</td>\n",
       "      <td>-12.0</td>\n",
       "      <td>8.0</td>\n",
       "      <td>0.0</td>\n",
       "      <td>10.0</td>\n",
       "      <td>-19.0</td>\n",
       "      <td>40.0</td>\n",
       "      <td>598.0</td>\n",
       "    </tr>\n",
       "    <tr>\n",
       "      <th>2</th>\n",
       "      <td>0</td>\n",
       "      <td>514616</td>\n",
       "      <td>1010008419</td>\n",
       "      <td>-8.0</td>\n",
       "      <td>-15.0</td>\n",
       "      <td>-7.0</td>\n",
       "      <td>24.0</td>\n",
       "      <td>-11.0</td>\n",
       "      <td>-4.0</td>\n",
       "      <td>-19.0</td>\n",
       "      <td>-28.0</td>\n",
       "      <td>526.0</td>\n",
       "    </tr>\n",
       "    <tr>\n",
       "      <th>3</th>\n",
       "      <td>0</td>\n",
       "      <td>69054</td>\n",
       "      <td>1010008441</td>\n",
       "      <td>-1.0</td>\n",
       "      <td>-15.0</td>\n",
       "      <td>24.0</td>\n",
       "      <td>8.0</td>\n",
       "      <td>0.0</td>\n",
       "      <td>10.0</td>\n",
       "      <td>-19.0</td>\n",
       "      <td>-1.0</td>\n",
       "      <td>600.0</td>\n",
       "    </tr>\n",
       "    <tr>\n",
       "      <th>4</th>\n",
       "      <td>0</td>\n",
       "      <td>516502</td>\n",
       "      <td>1010008467</td>\n",
       "      <td>7.0</td>\n",
       "      <td>22.0</td>\n",
       "      <td>-7.0</td>\n",
       "      <td>-21.0</td>\n",
       "      <td>0.0</td>\n",
       "      <td>-4.0</td>\n",
       "      <td>-19.0</td>\n",
       "      <td>40.0</td>\n",
       "      <td>612.0</td>\n",
       "    </tr>\n",
       "  </tbody>\n",
       "</table>\n",
       "</div>"
      ],
      "text/plain": [
       "   bad  clientid   accountid  dependent_points  gender_points  \\\n",
       "0    0    313690  1010008372              -8.0          -15.0   \n",
       "1    0      7257  1010008414              -8.0          -15.0   \n",
       "2    0    514616  1010008419              -8.0          -15.0   \n",
       "3    0     69054  1010008441              -1.0          -15.0   \n",
       "4    0    516502  1010008467               7.0           22.0   \n",
       "\n",
       "   exposure_points  total_income_points  CollateralValueToDebt_Ratio_points  \\\n",
       "0             24.0                 -4.0                                 0.0   \n",
       "1            -12.0                  8.0                                 0.0   \n",
       "2             -7.0                 24.0                               -11.0   \n",
       "3             24.0                  8.0                                 0.0   \n",
       "4             -7.0                -21.0                                 0.0   \n",
       "\n",
       "   days_with_bank_points  branch_region_points  \\\n",
       "0                    1.0                 -19.0   \n",
       "1                   10.0                 -19.0   \n",
       "2                   -4.0                 -19.0   \n",
       "3                   10.0                 -19.0   \n",
       "4                   -4.0                 -19.0   \n",
       "\n",
       "   occupation_duration_total_points  score  \n",
       "0                              24.0  597.0  \n",
       "1                              40.0  598.0  \n",
       "2                             -28.0  526.0  \n",
       "3                              -1.0  600.0  \n",
       "4                              40.0  612.0  "
      ]
     },
     "execution_count": 386,
     "metadata": {},
     "output_type": "execute_result"
    }
   ],
   "source": [
    "df_final_score_acc_cid.head()"
   ]
  },
  {
   "cell_type": "code",
   "execution_count": 387,
   "metadata": {},
   "outputs": [
    {
     "data": {
      "text/plain": [
       "array(['dependent', 'gender', 'exposure', 'total_income',\n",
       "       'CollateralValueToDebt_Ratio', 'days_with_bank', 'branch_region',\n",
       "       'occupation_duration_total'], dtype=object)"
      ]
     },
     "execution_count": 387,
     "metadata": {},
     "output_type": "execute_result"
    }
   ],
   "source": [
    "variables=df_card_100fits['variable'].unique()[1:]\n",
    "variables"
   ]
  },
  {
   "cell_type": "code",
   "execution_count": 388,
   "metadata": {},
   "outputs": [
    {
     "name": "stdout",
     "output_type": "stream",
     "text": [
      "dependent\n",
      "gender\n",
      "exposure\n",
      "total_income\n",
      "CollateralValueToDebt_Ratio\n",
      "days_with_bank\n",
      "branch_region\n",
      "occupation_duration_total\n"
     ]
    },
    {
     "data": {
      "image/png": "[encoded data removed]",
      "text/plain": [
       "<Figure size 432x288 with 1 Axes>"
      ]
     },
     "metadata": {},
     "output_type": "display_data"
    },
    {
     "data": {
      "image/png": "[encoded data removed]",
      "text/plain": [
       "<Figure size 432x288 with 1 Axes>"
      ]
     },
     "metadata": {},
     "output_type": "display_data"
    },
    {
     "data": {
      "image/png": "[encoded data removed]",
      "text/plain": [
       "<Figure size 432x288 with 1 Axes>"
      ]
     },
     "metadata": {},
     "output_type": "display_data"
    },
    {
     "data": {
      "image/png": "[encoded data removed]",
      "text/plain": [
       "<Figure size 432x288 with 1 Axes>"
      ]
     },
     "metadata": {},
     "output_type": "display_data"
    },
    {
     "data": {
      "image/png": "[encoded data removed]",
      "text/plain": [
       "<Figure size 432x288 with 1 Axes>"
      ]
     },
     "metadata": {},
     "output_type": "display_data"
    },
    {
     "data": {
      "image/png": "[encoded data removed]",
      "text/plain": [
       "<Figure size 432x288 with 1 Axes>"
      ]
     },
     "metadata": {},
     "output_type": "display_data"
    },
    {
     "data": {
      "image/png": "[encoded data removed]",
      "text/plain": [
       "<Figure size 432x288 with 1 Axes>"
      ]
     },
     "metadata": {},
     "output_type": "display_data"
    },
    {
     "data": {
      "image/png": "[encoded data removed]",
      "text/plain": [
       "<Figure size 432x288 with 1 Axes>"
      ]
     },
     "metadata": {},
     "output_type": "display_data"
    }
   ],
   "source": [
    "for variable in variables:\n",
    "    df_tmp3=df_card_100fits[df_card_100fits['variable'] ==variable]\\\n",
    "        [['seed','bin','points']]\n",
    "    df_tmp3=df_tmp3.pivot(index='seed', columns='bin', values='points')\n",
    "    df_tmp3=df_tmp3.astype(int)\n",
    "    print variable\n",
    "    df_tmp3.plot.hist(bins=100)"
   ]
  },
  {
   "cell_type": "code",
   "execution_count": null,
   "metadata": {},
   "outputs": [],
   "source": []
  },
  {
   "cell_type": "code",
   "execution_count": null,
   "metadata": {},
   "outputs": [],
   "source": []
  }
 ],
 "metadata": {
  "kernelspec": {
   "display_name": "Python 3",
   "language": "python",
   "name": "python3"
  },
  "language_info": {
   "codemirror_mode": {
    "name": "ipython",
    "version": 3
   },
   "file_extension": ".py",
   "mimetype": "text/x-python",
   "name": "python",
   "nbconvert_exporter": "python",
   "pygments_lexer": "ipython3",
   "version": "3.7.3"
  }
 },
 "nbformat": 4,
 "nbformat_minor": 2
}
